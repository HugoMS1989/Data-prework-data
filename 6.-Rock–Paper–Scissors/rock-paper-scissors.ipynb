{
 "cells": [
  {
   "cell_type": "markdown",
   "metadata": {},
   "source": [
    "<img src=\"https://bit.ly/2VnXWr2\" width=\"100\" align=\"left\">"
   ]
  },
  {
   "cell_type": "code",
   "execution_count": 11,
   "metadata": {},
   "outputs": [
    {
     "name": "stdout",
     "output_type": "stream",
     "text": [
      "Recaudado: 0\n",
      "pendiente de cobro:  0\n",
      "¿quieres añadir una nueva factura (A), pagarla (P) o terminar(T)?A\n",
      "Introduce numero factura: 334455\n",
      "Introduce coste factura: 180\n",
      "Recaudado: 0\n",
      "pendiente de cobro:  180.0\n",
      "¿quieres añadir una nueva factura (A), pagarla (P) o terminar(T)?P\n",
      "introduce el numero de la factura a pagar: 334455\n",
      "Recaudado: 180.0\n",
      "pendiente de cobro:  0.0\n",
      "¿quieres añadir una nueva factura (A), pagarla (P) o terminar(T)?T\n"
     ]
    }
   ],
   "source": [
    "invoices = {}\n",
    "collected = 0\n",
    "remains = 0\n",
    "more = ''\n",
    "while more != 'T':\n",
    "    if more == 'A':\n",
    "        key = input('Introduce numero factura: ')\n",
    "        cost = float(input('Introduce coste factura: '))\n",
    "        invoices[key] = cost\n",
    "        remains += cost\n",
    "    if more == 'P':\n",
    "        key = input('introduce el numero de la factura a pagar: ')\n",
    "        cost = invoices.pop(key, 0)\n",
    "        collected += cost\n",
    "        remains -= cost\n",
    "    print('Recaudado:', collected)\n",
    "    print('pendiente de cobro: ', remains)\n",
    "    more = input('¿quieres añadir una nueva factura (A), pagarla (P) o terminar(T)?')\n",
    "       \n",
    "        "
   ]
  },
  {
   "cell_type": "markdown",
   "metadata": {},
   "source": [
    "lista_compra = {}\n",
    "more = 'Si'\n",
    "while more == 'Si':\n",
    "    key = input('Qué artículo quieres añadir? ')\n",
    "    value = input(key + ': ')\n",
    "    lista_compra[key] = value\n",
    "    more = input('¿Quieres añadir más artículos? (Si/No)? ')\n",
    "    print(key, value, end='\\t')\n"
   ]
  },
  {
   "cell_type": "markdown",
   "metadata": {},
   "source": [
    "# Rock, Paper & Scissors\n",
    "\n",
    "Let's play the famous game against our computer. You can check the rules [here](https://en.wikipedia.org/wiki/Rock%E2%80%93paper%E2%80%93scissors). \n",
    "\n",
    "## Task\n",
    "Create a program that imitates the playability of the well known game of rock, paper, scissors. Follow the guidelines provided.\n",
    "\n",
    "## Tools\n",
    "1. Loop: **for/while**\n",
    "2. Functions: **input(), print()...**\n",
    "3. Conditional statements: **if, elif, else**\n",
    "4. Definition of functions. Modular programming\n",
    "5. Import modules\n",
    "\n",
    "**To solve this challenge, the use of functions is recommended.**\n",
    "\n",
    "#### 1. Import the choice function of the random module."
   ]
  },
  {
   "cell_type": "code",
   "execution_count": 1,
   "metadata": {},
   "outputs": [],
   "source": [
    "#import random\n",
    "import random\n",
    "from random import choice"
   ]
  },
  {
   "cell_type": "markdown",
   "metadata": {},
   "source": [
    "#### 2. Create a list that includes the 3 possible gesture options of the game: 'rock', 'paper' or 'scissors'. Store the list in a variable called `gestures`."
   ]
  },
  {
   "cell_type": "code",
   "execution_count": 2,
   "metadata": {},
   "outputs": [],
   "source": [
    "gestures = ['Rock', 'Paper', 'Scissors']\n"
   ]
  },
  {
   "cell_type": "markdown",
   "metadata": {},
   "source": [
    "#### 3. Create a variable called `n_rounds` to store the maximum number of rounds to play in a game. \n",
    "Remember that the number of rounds must be odd: 1, 3, 5, ..."
   ]
  },
  {
   "cell_type": "code",
   "execution_count": 3,
   "metadata": {},
   "outputs": [],
   "source": [
    "n_rounds = 3\n"
   ]
  },
  {
   "cell_type": "markdown",
   "metadata": {},
   "source": [
    "#### 4. Create a variable called `rounds_to_win` to store the number of rounds that a player must win to win the game.\n",
    "**Hint**: the value stored in `rounds_to_win` depends on the value of `n_rounds`. "
   ]
  },
  {
   "cell_type": "code",
   "execution_count": 4,
   "metadata": {},
   "outputs": [],
   "source": [
    "rounds_to_win = n_rounds/2 + 0.5 "
   ]
  },
  {
   "cell_type": "markdown",
   "metadata": {},
   "source": [
    "#### 5. Create two variables to store the number of rounds that the computer and the player have won. Call these variables `cpu_score` and `player_score`."
   ]
  },
  {
   "cell_type": "code",
   "execution_count": 5,
   "metadata": {},
   "outputs": [],
   "source": [
    "cpu_score = 0\n",
    "player_score = 0"
   ]
  },
  {
   "cell_type": "markdown",
   "metadata": {},
   "source": [
    "#### 6. Define a function that randomly returns one of the 3 gesture options.\n",
    "You will use this function to simulate the gesture choice of the computer. "
   ]
  },
  {
   "cell_type": "code",
   "execution_count": 6,
   "metadata": {},
   "outputs": [],
   "source": [
    "def random_element(gestures):\n",
    "    element = random.choice(gestures)\n",
    "    return element\n",
    "    \n"
   ]
  },
  {
   "cell_type": "code",
   "execution_count": 7,
   "metadata": {},
   "outputs": [
    {
     "name": "stdout",
     "output_type": "stream",
     "text": [
      "Paper\n"
     ]
    }
   ],
   "source": [
    "element = random_element(gestures)\n",
    "print(element)"
   ]
  },
  {
   "cell_type": "markdown",
   "metadata": {},
   "source": [
    "#### 7. Define a function that asks the player which is the gesture he or she wants to show: 'rock', 'paper' or 'scissors'.\n",
    "The player should only be allowed to choose one of the 3 gesture options. If the player's choice is not rock, paper or scissors, keep asking until it is."
   ]
  },
  {
   "cell_type": "code",
   "execution_count": 8,
   "metadata": {},
   "outputs": [],
   "source": [
    "def ask_player(gestures):\n",
    "    player = input(gestures)\n",
    "    return player\n"
   ]
  },
  {
   "cell_type": "code",
   "execution_count": 9,
   "metadata": {
    "scrolled": true
   },
   "outputs": [
    {
     "ename": "KeyboardInterrupt",
     "evalue": "Interrupted by user",
     "output_type": "error",
     "traceback": [
      "\u001b[0;31m---------------------------------------------------------------------------\u001b[0m",
      "\u001b[0;31mKeyboardInterrupt\u001b[0m                         Traceback (most recent call last)",
      "\u001b[0;32m<ipython-input-9-b34198bdd440>\u001b[0m in \u001b[0;36m<module>\u001b[0;34m\u001b[0m\n\u001b[0;32m----> 1\u001b[0;31m \u001b[0mplayer\u001b[0m \u001b[0;34m=\u001b[0m \u001b[0mask_player\u001b[0m\u001b[0;34m(\u001b[0m\u001b[0mgestures\u001b[0m\u001b[0;34m)\u001b[0m\u001b[0;34m\u001b[0m\u001b[0;34m\u001b[0m\u001b[0m\n\u001b[0m\u001b[1;32m      2\u001b[0m \u001b[0mprint\u001b[0m\u001b[0;34m(\u001b[0m\u001b[0mplayer\u001b[0m\u001b[0;34m)\u001b[0m\u001b[0;34m\u001b[0m\u001b[0;34m\u001b[0m\u001b[0m\n",
      "\u001b[0;32m<ipython-input-8-566edabd5957>\u001b[0m in \u001b[0;36mask_player\u001b[0;34m(gestures)\u001b[0m\n\u001b[1;32m      1\u001b[0m \u001b[0;32mdef\u001b[0m \u001b[0mask_player\u001b[0m\u001b[0;34m(\u001b[0m\u001b[0mgestures\u001b[0m\u001b[0;34m)\u001b[0m\u001b[0;34m:\u001b[0m\u001b[0;34m\u001b[0m\u001b[0;34m\u001b[0m\u001b[0m\n\u001b[0;32m----> 2\u001b[0;31m     \u001b[0mplayer\u001b[0m \u001b[0;34m=\u001b[0m \u001b[0minput\u001b[0m\u001b[0;34m(\u001b[0m\u001b[0mgestures\u001b[0m\u001b[0;34m)\u001b[0m\u001b[0;34m\u001b[0m\u001b[0;34m\u001b[0m\u001b[0m\n\u001b[0m\u001b[1;32m      3\u001b[0m     \u001b[0;32mreturn\u001b[0m \u001b[0mplayer\u001b[0m\u001b[0;34m\u001b[0m\u001b[0;34m\u001b[0m\u001b[0m\n",
      "\u001b[0;32m/usr/local/Cellar/jupyterlab/2.2.6/libexec/lib/python3.8/site-packages/ipykernel/kernelbase.py\u001b[0m in \u001b[0;36mraw_input\u001b[0;34m(self, prompt)\u001b[0m\n\u001b[1;32m    858\u001b[0m                 \u001b[0;34m\"raw_input was called, but this frontend does not support input requests.\"\u001b[0m\u001b[0;34m\u001b[0m\u001b[0;34m\u001b[0m\u001b[0m\n\u001b[1;32m    859\u001b[0m             )\n\u001b[0;32m--> 860\u001b[0;31m         return self._input_request(str(prompt),\n\u001b[0m\u001b[1;32m    861\u001b[0m             \u001b[0mself\u001b[0m\u001b[0;34m.\u001b[0m\u001b[0m_parent_ident\u001b[0m\u001b[0;34m,\u001b[0m\u001b[0;34m\u001b[0m\u001b[0;34m\u001b[0m\u001b[0m\n\u001b[1;32m    862\u001b[0m             \u001b[0mself\u001b[0m\u001b[0;34m.\u001b[0m\u001b[0m_parent_header\u001b[0m\u001b[0;34m,\u001b[0m\u001b[0;34m\u001b[0m\u001b[0;34m\u001b[0m\u001b[0m\n",
      "\u001b[0;32m/usr/local/Cellar/jupyterlab/2.2.6/libexec/lib/python3.8/site-packages/ipykernel/kernelbase.py\u001b[0m in \u001b[0;36m_input_request\u001b[0;34m(self, prompt, ident, parent, password)\u001b[0m\n\u001b[1;32m    902\u001b[0m             \u001b[0;32mexcept\u001b[0m \u001b[0mKeyboardInterrupt\u001b[0m\u001b[0;34m:\u001b[0m\u001b[0;34m\u001b[0m\u001b[0;34m\u001b[0m\u001b[0m\n\u001b[1;32m    903\u001b[0m                 \u001b[0;31m# re-raise KeyboardInterrupt, to truncate traceback\u001b[0m\u001b[0;34m\u001b[0m\u001b[0;34m\u001b[0m\u001b[0;34m\u001b[0m\u001b[0m\n\u001b[0;32m--> 904\u001b[0;31m                 \u001b[0;32mraise\u001b[0m \u001b[0mKeyboardInterrupt\u001b[0m\u001b[0;34m(\u001b[0m\u001b[0;34m\"Interrupted by user\"\u001b[0m\u001b[0;34m)\u001b[0m \u001b[0;32mfrom\u001b[0m \u001b[0;32mNone\u001b[0m\u001b[0;34m\u001b[0m\u001b[0;34m\u001b[0m\u001b[0m\n\u001b[0m\u001b[1;32m    905\u001b[0m             \u001b[0;32mexcept\u001b[0m \u001b[0mException\u001b[0m \u001b[0;32mas\u001b[0m \u001b[0me\u001b[0m\u001b[0;34m:\u001b[0m\u001b[0;34m\u001b[0m\u001b[0;34m\u001b[0m\u001b[0m\n\u001b[1;32m    906\u001b[0m                 \u001b[0mself\u001b[0m\u001b[0;34m.\u001b[0m\u001b[0mlog\u001b[0m\u001b[0;34m.\u001b[0m\u001b[0mwarning\u001b[0m\u001b[0;34m(\u001b[0m\u001b[0;34m\"Invalid Message:\"\u001b[0m\u001b[0;34m,\u001b[0m \u001b[0mexc_info\u001b[0m\u001b[0;34m=\u001b[0m\u001b[0;32mTrue\u001b[0m\u001b[0;34m)\u001b[0m\u001b[0;34m\u001b[0m\u001b[0;34m\u001b[0m\u001b[0m\n",
      "\u001b[0;31mKeyboardInterrupt\u001b[0m: Interrupted by user"
     ]
    }
   ],
   "source": [
    "player = ask_player(gestures)\n",
    "print(player)"
   ]
  },
  {
   "cell_type": "markdown",
   "metadata": {},
   "source": [
    "#### 8. Define a function that checks who won a round. \n",
    "The function should return 0 if there is a tie, 1 if the computer wins and 2 if the player wins."
   ]
  },
  {
   "cell_type": "code",
   "execution_count": null,
   "metadata": {},
   "outputs": [],
   "source": [
    "def game(player, computer):\n",
    "    if player == \"Rock\":\n",
    "        if computer == \"Paper\":\n",
    "            result = 1\n",
    "        elif computer == \"Scissors\":\n",
    "            result = 2\n",
    "        elif computer == \"Rock\":\n",
    "            result = 0\n",
    "    elif player == \"Paper\":\n",
    "        if computer == \"Rock\":\n",
    "            result = 2\n",
    "        elif computer == \"Scissors\":\n",
    "            result = 1\n",
    "        elif computer == \"Paper\":\n",
    "            result = 0\n",
    "    elif player == \"Scissors\":\n",
    "        if computer == \"Paper\":\n",
    "            result = 2\n",
    "        elif computer == \"Rock\":\n",
    "            result = 1\n",
    "        elif computer == \"Scissors\":\n",
    "            result = 0\n",
    "    else:\n",
    "        print('Player not recognized')\n",
    "    return result"
   ]
  },
  {
   "cell_type": "code",
   "execution_count": null,
   "metadata": {
    "scrolled": true
   },
   "outputs": [],
   "source": [
    "\n",
    "  \n",
    "            \n"
   ]
  },
  {
   "cell_type": "markdown",
   "metadata": {},
   "source": [
    "#### 9. Define a function that prints the choice of the computer, the choice of the player and a message that announces who won the current round. \n",
    "You should also use this function to update the variables that count the number of rounds that the computer and the player have won. The score of the winner increases by one point. If there is a tie, the score does not increase."
   ]
  },
  {
   "cell_type": "code",
   "execution_count": null,
   "metadata": {},
   "outputs": [],
   "source": [
    "def result_round(computer,player,result,rounds):\n",
    "    print('This is round ',rounds)\n",
    "    print(\"Game result: \", result)\n",
    "    print(\"computer played\",computer)\n",
    "    print(\"player played\", player)"
   ]
  },
  {
   "cell_type": "markdown",
   "metadata": {},
   "source": [
    "#### 10. Now it's time to code the execution of the game using the functions and variables you defined above. \n",
    "\n",
    "First, create a loop structure that repeats while no player reaches the minimum score necessary to win and the number of rounds is less than the maximum number of rounds to play in a game.  \n",
    "\n",
    "Inside the loop, use the functions and variables above to create the execution of a round: ask for the player's choice, generate the random choice of the computer, show the round results, update the scores, etc. "
   ]
  },
  {
   "cell_type": "code",
   "execution_count": null,
   "metadata": {},
   "outputs": [],
   "source": [
    "def winner_round(result, cpu_score, player_score):\n",
    "    if result == 1:\n",
    "        cpu_score += 1\n",
    "    elif result == 2:\n",
    "        player_score += 1\n",
    "    return cpu_score, player_score"
   ]
  },
  {
   "cell_type": "code",
   "execution_count": null,
   "metadata": {
    "scrolled": false
   },
   "outputs": [],
   "source": [
    "rounds = 0\n",
    "cpu_score = 0\n",
    "player_score = 0\n",
    "\n",
    "while rounds < n_rounds:\n",
    "    computer = random_element(gestures)\n",
    "    player = ask_player(gestures)\n",
    "    result = game(player, computer)\n",
    "    rounds += 1\n",
    "    result_round(computer,player,result,rounds)\n",
    "    cpu_score, player_score = winner_round(result, cpu_score, player_score)\n",
    "\n",
    "print(cpu_score, player_score)"
   ]
  },
  {
   "cell_type": "code",
   "execution_count": null,
   "metadata": {},
   "outputs": [],
   "source": []
  },
  {
   "cell_type": "markdown",
   "metadata": {},
   "source": [
    "#### 11. Print the winner of the game based on who won more rounds.\n",
    "Remember that the game might be tied. "
   ]
  },
  {
   "cell_type": "code",
   "execution_count": null,
   "metadata": {},
   "outputs": [],
   "source": [
    "if player > computer:\n",
    "    print(\"Player won\")\n",
    "elif computer > player:\n",
    "    print(\"Computer won\")\n",
    "else:\n",
    "    print(\"game was tied\")"
   ]
  },
  {
   "cell_type": "markdown",
   "metadata": {},
   "source": [
    "# Bonus: Rock, Paper, Scissors, Lizard & Spock\n",
    "![](images/rpsls.jpg)\n",
    "\n",
    "In this challenge, you need to improve the previous game by adding two new options. To know more about the rules of the improved version of rock, paper, scissors, check this [link](http://www.samkass.com/theories/RPSSL.html). \n",
    "\n",
    "In addition, you will also need to improve how the game interacts with the player: the number of rounds to play, which must be an odd number, will be requested to the user until a valid number is entered. Define a new function to make that request.\n",
    "\n",
    "**Hint**: Try to reuse the code that you already coded in the previous challenge. If your code is efficient, this bonus will only consist of simple modifications to the original game."
   ]
  },
  {
   "cell_type": "code",
   "execution_count": null,
   "metadata": {},
   "outputs": [],
   "source": [
    "gestures = ['Rock', 'Paper', 'Scissors', 'Lizard', 'Spock']\n",
    "n_rounds = 5\n",
    "rounds_to_win = n_rounds/2 + 0.5\n",
    "cpu_score = 0\n",
    "player_score = 0\n",
    "def random_element(gestures):\n",
    "    element = random.choice(gestures)\n",
    "    return element\n",
    "def ask_player(gestures):\n",
    "    player = input(gestures)\n",
    "    return player\n",
    "def game(player, computer):\n",
    "    if player == \"Rock\":\n",
    "        if computer == \"Paper\":\n",
    "            function = 1\n",
    "        elif computer == \"Scissors\":\n",
    "            function = 2\n",
    "        elif computer == \"Rock\":\n",
    "            function = 0\n",
    "        elif computer == \"Lizard\":\n",
    "            function = 2\n",
    "        elif computer == \"Spock\":\n",
    "            function = 1\n",
    "    elif player == \"Paper\":\n",
    "        if computer == \"Rock\":\n",
    "            function = 2\n",
    "        elif computer == \"Scissors\":\n",
    "            function = 1\n",
    "        elif computer == \"Paper\":\n",
    "            function = 0\n",
    "        elif computer == \"Lizard\":\n",
    "            function = 1\n",
    "        elif computer == \"Spock\":\n",
    "            function = 2\n",
    "    elif player == \"Scissors\":\n",
    "        if computer == \"Paper\":\n",
    "            function = 2\n",
    "        elif computer == \"Rock\":\n",
    "            function = 1\n",
    "        elif computer == \"Scissors\":\n",
    "            function = 0\n",
    "        elif computer == \"Lizard\":\n",
    "            function = 2\n",
    "        elif computer == \"Spock\":\n",
    "            function = 1\n",
    "    elif player == \"Lizard\":\n",
    "        if computer == \"Paper\":\n",
    "            function = 2\n",
    "        elif computer == \"Rock\":\n",
    "            function = 1\n",
    "        elif computer == \"Scissors\":\n",
    "            function = 1\n",
    "        elif computer == \"Lizard\":\n",
    "            function = 0\n",
    "        elif computer == \"Spock\":\n",
    "            function = 2\n",
    "    elif player == \"Spock\":\n",
    "        if computer == \"Paper\":\n",
    "            function = 1\n",
    "        elif computer == \"Rock\":\n",
    "            function = 2\n",
    "        elif computer == \"Scissors\":\n",
    "            function = 2\n",
    "        elif computer == \"Lizard\":\n",
    "            function = 1\n",
    "        elif computer == \"Spock\":\n",
    "            function = 0\n",
    "            \n",
    "    else:\n",
    "        print('Player not recognized')\n",
    "    return function\n",
    "def result_round(computer,player,result,rounds):\n",
    "    print('This is round ',rounds)\n",
    "    print(\"Game result: \", result)\n",
    "    print(\"computer played\",computer)\n",
    "    print(\"player played\", player)\n",
    "print(cpu_score, player_score)\n",
    "\n"
   ]
  },
  {
   "cell_type": "code",
   "execution_count": null,
   "metadata": {
    "scrolled": true
   },
   "outputs": [],
   "source": [
    "gestures = ['Rock', 'Paper', 'Scissors', 'Lizard', 'Spock']\n",
    "\n",
    "n_rounds = 5\n",
    "rounds_to_win = n_rounds/2 + 0.5\n",
    "cpu_score = 0\n",
    "player_score = 0\n",
    "rounds = 0\n",
    "\n",
    "while rounds < n_rounds:\n",
    "    computer = random_element(gestures)\n",
    "    player = ask_player(gestures)\n",
    "    result = game(player, computer)\n",
    "    rounds += 1\n",
    "    result_round(computer,player,result,rounds)\n",
    "    cpu_score, player_score = winner_round(result, cpu_score, player_score)\n",
    "print(cpu_score, player_score)\n"
   ]
  },
  {
   "cell_type": "code",
   "execution_count": null,
   "metadata": {},
   "outputs": [],
   "source": []
  }
 ],
 "metadata": {
  "kernelspec": {
   "display_name": "Python 3",
   "language": "python",
   "name": "python3"
  },
  "language_info": {
   "codemirror_mode": {
    "name": "ipython",
    "version": 3
   },
   "file_extension": ".py",
   "mimetype": "text/x-python",
   "name": "python",
   "nbconvert_exporter": "python",
   "pygments_lexer": "ipython3",
   "version": "3.8.5"
  }
 },
 "nbformat": 4,
 "nbformat_minor": 2
}
